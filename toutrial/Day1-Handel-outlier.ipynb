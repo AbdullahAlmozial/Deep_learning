{
 "cells": [
  {
   "cell_type": "code",
   "execution_count": null,
   "metadata": {},
   "outputs": [],
   "source": [
    "Which Machine LEarning Models Are Sensitive To Outliers?\n",
    "\n",
    "\n",
    "Naivye Bayes Classifier--- Not Sensitive To Outliers\n",
    "SVM-------- Not Sensitive To Outliers\n",
    "Linear Regression---------- Sensitive To Outliers\n",
    "Logistic Regression------- Sensitive To Outliers\n",
    "Decision Tree Regressor or Classifier---- Not Sensitive\n",
    "Ensemble(RF,XGboost,GB)------- Not Sensitive\n",
    "KNN--------------------------- Not Sensitive\n",
    "Kmeans------------------------ Sensitive\n",
    "Hierarichal------------------- Sensitive\n",
    "PCA-------------------------- Sensitive\n",
    "Neural Networks-------------- Sensitive"
   ]
  },
  {
   "cell_type": "code",
   "execution_count": 1,
   "metadata": {},
   "outputs": [],
   "source": [
    "import pandas as pd"
   ]
  },
  {
   "cell_type": "code",
   "execution_count": 2,
   "metadata": {},
   "outputs": [
    {
     "name": "stdout",
     "output_type": "stream",
     "text": [
      "\u001b[31m## Missing Values- Feature Engineering.ipynb\u001b[m\u001b[m\r\n",
      "Feature Encoding .ipynb\r\n",
      "\u001b[31mOutliers.ipynb\u001b[m\u001b[m\r\n",
      "\u001b[31mREADME.md\u001b[m\u001b[m\r\n",
      "Untitled.ipynb\r\n",
      "Untitled1.ipynb\r\n",
      "loan.csv\r\n",
      "\u001b[31mmercedes.csv\u001b[m\u001b[m\r\n",
      "\u001b[31mmobile_dataset.csv\u001b[m\u001b[m\r\n",
      "\u001b[31mmonthly-milk-production-pounds.csv\u001b[m\u001b[m\r\n",
      "\u001b[31mtest.csv\u001b[m\u001b[m\r\n",
      "\u001b[31mtitanic.csv\u001b[m\u001b[m\r\n",
      "\u001b[31mtrain.csv\u001b[m\u001b[m\r\n"
     ]
    }
   ],
   "source": [
    "! ls"
   ]
  },
  {
   "cell_type": "code",
   "execution_count": 3,
   "metadata": {},
   "outputs": [],
   "source": [
    "df = pd.read_csv('titanic.csv')"
   ]
  },
  {
   "cell_type": "code",
   "execution_count": 4,
   "metadata": {},
   "outputs": [
    {
     "data": {
      "text/plain": [
       "177"
      ]
     },
     "execution_count": 4,
     "metadata": {},
     "output_type": "execute_result"
    }
   ],
   "source": [
    "df.Age.isnull().sum()"
   ]
  },
  {
   "cell_type": "code",
   "execution_count": 8,
   "metadata": {},
   "outputs": [
    {
     "data": {
      "image/png": "[encoded data removed]",
      "text/plain": [
       "<Figure size 432x288 with 1 Axes>"
      ]
     },
     "metadata": {
      "needs_background": "light"
     },
     "output_type": "display_data"
    }
   ],
   "source": [
    "fig = df.boxplot(column=\"Age\")"
   ]
  },
  {
   "cell_type": "code",
   "execution_count": 6,
   "metadata": {},
   "outputs": [],
   "source": [
    "import numpy as np"
   ]
  },
  {
   "cell_type": "code",
   "execution_count": null,
   "metadata": {},
   "outputs": [],
   "source": []
  },
  {
   "cell_type": "code",
   "execution_count": null,
   "metadata": {},
   "outputs": [],
   "source": []
  },
  {
   "cell_type": "code",
   "execution_count": 7,
   "metadata": {},
   "outputs": [],
   "source": [
    "Q1 = df.Age.quantile(0.25)\n",
    "Q3 = df.Age.quantile(0.75)\n",
    "\n",
    "IQR = Q3-Q1\n",
    "\n",
    "lower_limit = Q1 - 1.5*IQR\n",
    "upper_limit  = Q3 + 1.5*IQR\n",
    "\n",
    "df['Age'] = np.where(df['Age']>upper_limit ,upper_limit ,df['Age'])\n",
    "df['Age'] = np.where(df['Age']<lower_limit ,lower_limit ,df['Age'])\n",
    "\n",
    "\n"
   ]
  }
 ],
 "metadata": {
  "kernelspec": {
   "display_name": "Python 3",
   "language": "python",
   "name": "python3"
  },
  "language_info": {
   "codemirror_mode": {
    "name": "ipython",
    "version": 3
   },
   "file_extension": ".py",
   "mimetype": "text/x-python",
   "name": "python",
   "nbconvert_exporter": "python",
   "pygments_lexer": "ipython3",
   "version": "3.6.10"
  }
 },
 "nbformat": 4,
 "nbformat_minor": 4
}
